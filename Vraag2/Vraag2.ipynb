{
 "cells": [
  {
   "cell_type": "code",
   "execution_count": null,
   "id": "203df543",
   "metadata": {},
   "outputs": [],
   "source": [
    "import time\n",
    "import wave\n",
    "import numpy as np\n",
    "from pynq import Overlay\n",
    "from scipy import signal\n",
    "from scipy.io import wavfile\n",
    "from scipy.fftpack import fft\n",
    "import matplotlib.pyplot as plt\n",
    "from pynq.overlays.base import BaseOverlay\n",
    "from pynq.lib.arduino import ARDUINO_GROVE_G3"
   ]
  },
  {
   "cell_type": "code",
   "execution_count": null,
   "id": "ee3ecd10",
   "metadata": {},
   "outputs": [],
   "source": [
    "# Set up the Neopixel matrix\n",
    "pixels = ARDUINO_GROVE_G3.NeoPixel(base.ARDUINO, 6, 32)"
   ]
  },
  {
   "cell_type": "code",
   "execution_count": null,
   "id": "1fed3a77",
   "metadata": {},
   "outputs": [],
   "source": [
    "base = Overlay(\"reconf_fft.bit\")"
   ]
  },
  {
   "cell_type": "code",
   "execution_count": null,
   "id": "145c1074",
   "metadata": {},
   "outputs": [],
   "source": [
    "pixels = ARDUINO_GROVE_G3.NeoPixel(base.ARDUINO, 6, 32)"
   ]
  },
  {
   "cell_type": "code",
   "execution_count": null,
   "id": "6b7133e9",
   "metadata": {},
   "outputs": [],
   "source": [
    "# verschillende wav bestand om te laten zien dat de fft veranderd \n",
    "# Load the WAV file\n",
    "Fs, audio_data = wavfile.read('birds.wav')\n",
    "#Fs, audio_data = wavfile.read('hpf.wav')\n",
    "#Fs, audio_data = wavfile.read('StarWars3.wav')"
   ]
  },
  {
   "cell_type": "code",
   "execution_count": null,
   "id": "b679f761",
   "metadata": {},
   "outputs": [],
   "source": [
    "# Compute the FFT of the audio data\n",
    "fft_data = np.fft.fft(audio_data)"
   ]
  },
  {
   "cell_type": "code",
   "execution_count": null,
   "id": "e26568eb",
   "metadata": {},
   "outputs": [],
   "source": [
    "#Get frequency values for each sample\n",
    "frequencies = np.fft.fftfreq(len(fft_data)) * Fs"
   ]
  },
  {
   "cell_type": "code",
   "execution_count": null,
   "id": "48fc69a7",
   "metadata": {},
   "outputs": [],
   "source": [
    "fft_data_normalized = fft_data / np.max(np.abs(fft_data))"
   ]
  },
  {
   "cell_type": "code",
   "execution_count": null,
   "id": "737355b5",
   "metadata": {},
   "outputs": [],
   "source": [
    "# Plot the frequency spectrum\n",
    "plt.plot(frequencies, np.abs(fft_data))\n",
    "plt.xlabel('Time [sec]')\n",
    "plt.ylabel('Frequency [Hz]')\n",
    "plt.show()"
   ]
  },
  {
   "cell_type": "code",
   "execution_count": null,
   "id": "e2102a02",
   "metadata": {},
   "outputs": [],
   "source": [
    "# Map the plot data to the Neopixel matrix\n",
    "for i in range(32):\n",
    "    pixels.set_pixel(i, (int(255*np.real(fft_data_normalized[i])),\n",
    "                      int(255*np.imag(fft_data_normalized[i])),\n",
    "                      int(255*np.abs(fft_data_normalized[i]))))"
   ]
  },
  {
   "cell_type": "code",
   "execution_count": null,
   "id": "f0544437",
   "metadata": {},
   "outputs": [],
   "source": [
    "# Show the plot on the Neopixel matrix\n",
    "pixels.show()"
   ]
  },
  {
   "cell_type": "code",
   "execution_count": null,
   "id": "41219487",
   "metadata": {},
   "outputs": [],
   "source": [
    "# Keep the plot on the Neopixel matrix for 5 seconds\n",
    "time.sleep(5)"
   ]
  },
  {
   "cell_type": "code",
   "execution_count": null,
   "id": "0dfe1556",
   "metadata": {},
   "outputs": [],
   "source": [
    "# Clear the Neopixel matrix\n",
    "pixels.fill((0, 0, 0))\n",
    "pixels.show() "
   ]
  }
 ],
 "metadata": {
  "kernelspec": {
   "display_name": "Python 3 (ipykernel)",
   "language": "python",
   "name": "python3"
  },
  "language_info": {
   "codemirror_mode": {
    "name": "ipython",
    "version": 3
   },
   "file_extension": ".py",
   "mimetype": "text/x-python",
   "name": "python",
   "nbconvert_exporter": "python",
   "pygments_lexer": "ipython3",
   "version": "3.10.4"
  }
 },
 "nbformat": 4,
 "nbformat_minor": 5
}
